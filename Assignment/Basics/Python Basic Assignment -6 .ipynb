{
 "cells": [
  {
   "cell_type": "markdown",
   "metadata": {},
   "source": [
    "# Python Basic Assignment -6 :"
   ]
  },
  {
   "cell_type": "markdown",
   "metadata": {},
   "source": [
    "## 1.What are escape characters, and how do you use them?\n",
    "Ans :-\n",
    "- In Python String Doesn't allow all the character for this we use Escape character\n",
    "- The escape character allows you to use double quotes when you normally would not be allowed:\n",
    "- / is used as a Escape Character in Python"
   ]
  },
  {
   "cell_type": "code",
   "execution_count": 7,
   "metadata": {},
   "outputs": [
    {
     "ename": "SyntaxError",
     "evalue": "invalid syntax (<ipython-input-7-69d1229d90b3>, line 1)",
     "output_type": "error",
     "traceback": [
      "\u001b[1;36m  File \u001b[1;32m\"<ipython-input-7-69d1229d90b3>\"\u001b[1;36m, line \u001b[1;32m1\u001b[0m\n\u001b[1;33m    name=\"My Name is \"Karthik\" \"\u001b[0m\n\u001b[1;37m                            ^\u001b[0m\n\u001b[1;31mSyntaxError\u001b[0m\u001b[1;31m:\u001b[0m invalid syntax\n"
     ]
    }
   ],
   "source": [
    "## Without Escape Character\n",
    "name=\"My Name is \"Karthik\"  and age is 21\"\n",
    "print(name)"
   ]
  },
  {
   "cell_type": "code",
   "execution_count": 6,
   "metadata": {},
   "outputs": [
    {
     "name": "stdout",
     "output_type": "stream",
     "text": [
      "We are the so-called \"karthik\" and age is 21\n"
     ]
    }
   ],
   "source": [
    "## Using Escape character\n",
    "_name = \"We are the so-called \\\"karthik\\\" and age is 21\"\n",
    "print(_name)"
   ]
  },
  {
   "cell_type": "markdown",
   "metadata": {},
   "source": [
    "## 2. What do the escape characters n and t stand for?\n",
    "Ans :-\n",
    "- In  Escape Character n stand for new line and t stand for tab"
   ]
  },
  {
   "cell_type": "code",
   "execution_count": 11,
   "metadata": {},
   "outputs": [
    {
     "name": "stdout",
     "output_type": "stream",
     "text": [
      "Python\n",
      "Language\n",
      "___________________________________________________________________________\n",
      "Python\tLanguage\n"
     ]
    }
   ],
   "source": [
    "## \\n\n",
    "a = \"Python\\nLanguage\" \n",
    "print(a) \n",
    "print(\"_\"*75)\n",
    "b = \"Python\\tLanguage\"\n",
    "print(b) \n"
   ]
  },
  {
   "cell_type": "markdown",
   "metadata": {},
   "source": [
    "## 3. What is the way to include backslash characters in a string?\n",
    "Ans :-\n",
    "- In Python Backslash(\\) is uded for escape character\n",
    "- To Include the Backslash Before the Double Quote "
   ]
  },
  {
   "cell_type": "code",
   "execution_count": 15,
   "metadata": {},
   "outputs": [
    {
     "name": "stdout",
     "output_type": "stream",
     "text": [
      "We are the so-called \"karthik\" and age is 21\n"
     ]
    }
   ],
   "source": [
    "_name = \"We are the so-called \\\"karthik\\\" and age is 21\"\n",
    "print(_name)"
   ]
  },
  {
   "cell_type": "markdown",
   "metadata": {},
   "source": [
    "## 4. The string &quot;Howl&#39;s Moving Castle&quot; is a correct value. Why isn&#39;t the single quote character in theword Howl&#39;s not escaped a problem?\n",
    "Ans :-\n",
    "- In General When We open Quotes we should Close ForEx: 'karthik's' soo we see we open before k and use before s so it gives error\n",
    "- For This problem we use Double Quotes"
   ]
  },
  {
   "cell_type": "markdown",
   "metadata": {},
   "source": [
    "## 5. How do you write a string of newlines if you don&#39;t want to use the n character?\n",
    "Ans :-\n",
    "- We Use Triple Quotes for linebreak instead of /n "
   ]
  },
  {
   "cell_type": "code",
   "execution_count": 17,
   "metadata": {},
   "outputs": [
    {
     "name": "stdout",
     "output_type": "stream",
     "text": [
      "Python\n",
      "is\n",
      "widely\n",
      "using\n",
      "Language\n",
      "\n"
     ]
    }
   ],
   "source": [
    "f=\"\"\"Python\n",
    "is\n",
    "widely\n",
    "using\n",
    "Language\n",
    "\"\"\"\n",
    "print(f)"
   ]
  },
  {
   "cell_type": "markdown",
   "metadata": {},
   "source": [
    "## 6. What are the values of the given expressions?\n",
    "Ans :-\n",
    "- &#39;Hello, world!&#39;[1] ans:-e\n",
    "- &#39;Hello, world!&#39;[0:5] ans:-\"Hello\"\n",
    "- &#39;Hello, world!&#39;[:5] ans:-\"Hello\"\n",
    "- &#39;Hello, world!&#39;[3:] ans :- \"lo,world!\""
   ]
  },
  {
   "cell_type": "code",
   "execution_count": 18,
   "metadata": {},
   "outputs": [
    {
     "name": "stdout",
     "output_type": "stream",
     "text": [
      "e\n",
      "Hello\n",
      "Hello\n",
      "lo,world!\n"
     ]
    }
   ],
   "source": [
    "a=\"Hello,world!\"\n",
    "print(a[1])\n",
    "print(a[0:5])\n",
    "print(a[:5])\n",
    "print(a[3:])"
   ]
  },
  {
   "cell_type": "markdown",
   "metadata": {},
   "source": [
    "## 7. What are the values of the following expressions?\n",
    "Ans :-\n",
    "- &#39;Hello&#39;.upper() Ans:- HELLO\n",
    "- &#39;Hello&#39;.upper().isupper() Ans:-True\n",
    "- &#39;Hello&#39;.upper().lower() Ans:-hello"
   ]
  },
  {
   "cell_type": "code",
   "execution_count": 22,
   "metadata": {
    "scrolled": true
   },
   "outputs": [
    {
     "name": "stdout",
     "output_type": "stream",
     "text": [
      "HELLO\n",
      "True\n",
      "hello\n"
     ]
    }
   ],
   "source": [
    "a=\"Hello\"\n",
    "print(a.upper())\n",
    "print(a.upper().isupper())\n",
    "print(a.upper().lower())"
   ]
  },
  {
   "cell_type": "markdown",
   "metadata": {},
   "source": [
    "## 8. What are the values of the following expressions?\n",
    "\n",
    "- &#39;Remember, remember, the fifth of July.&#39;.split()\n",
    "- &#39;-&#39;.join(&#39;There can only one.&#39;.split())"
   ]
  },
  {
   "cell_type": "code",
   "execution_count": 28,
   "metadata": {},
   "outputs": [
    {
     "name": "stdout",
     "output_type": "stream",
     "text": [
      "['Remember,remember,the', 'fifth', 'of', 'July.']\n",
      "R-e-m-e-m-b-e-r-,-r-e-m-e-m-b-e-r-,-t-h-e- -f-i-f-t-h- -o-f- -J-u-l-y-.\n"
     ]
    }
   ],
   "source": [
    "a='Remember,remember,the fifth of July.'\n",
    "print(a.split()) ## If we don't specify spilt value by default it spilt using whitespace\n",
    "print('-'.join(a)) ## To will specify '-' to after every character"
   ]
  },
  {
   "cell_type": "markdown",
   "metadata": {},
   "source": [
    "## 9. What are the methods for right-justifying, left-justifying, and centering a string?\n",
    "Ans:-\n",
    "- For Left-Justifying we use ljust function and give length and character\n",
    "- For Right-Justifying we use rjust function and give length and character\n",
    "- For Centering we use center function and give length and character\n"
   ]
  },
  {
   "cell_type": "code",
   "execution_count": 32,
   "metadata": {},
   "outputs": [
    {
     "name": "stdout",
     "output_type": "stream",
     "text": [
      "Python    \n",
      "    Python\n",
      "  Python  \n"
     ]
    }
   ],
   "source": [
    "a=\"Python\"\n",
    "print(a.ljust(10,' '))\n",
    "print(a.rjust(10,' '))\n",
    "print(a.center(10))"
   ]
  },
  {
   "cell_type": "markdown",
   "metadata": {},
   "source": [
    "## 10. What is the best way to remove whitespace characters from the start or end?\n",
    "Ans:-\n",
    "- In Python strip function helps to remove whitespace at start and end of the stringh"
   ]
  },
  {
   "cell_type": "code",
   "execution_count": 38,
   "metadata": {},
   "outputs": [
    {
     "name": "stdout",
     "output_type": "stream",
     "text": [
      "     Python   \n",
      "Python\n"
     ]
    }
   ],
   "source": [
    "a=\"     Python   \" \n",
    "print(a)\n",
    "print(a.strip())"
   ]
  }
 ],
 "metadata": {
  "kernelspec": {
   "display_name": "Python 3",
   "language": "python",
   "name": "python3"
  },
  "language_info": {
   "codemirror_mode": {
    "name": "ipython",
    "version": 3
   },
   "file_extension": ".py",
   "mimetype": "text/x-python",
   "name": "python",
   "nbconvert_exporter": "python",
   "pygments_lexer": "ipython3",
   "version": "3.7.6"
  }
 },
 "nbformat": 4,
 "nbformat_minor": 4
}
