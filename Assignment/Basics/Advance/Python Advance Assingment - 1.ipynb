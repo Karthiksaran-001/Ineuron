{
 "cells": [
  {
   "cell_type": "markdown",
   "metadata": {},
   "source": [
    "# Python Advance Assingment"
   ]
  },
  {
   "cell_type": "markdown",
   "metadata": {},
   "source": [
    "## Q1. What is the purpose of Python&#39;s OOP?\n",
    "Ans:-\n",
    "Python is Object oriented Programming , so everything in Python is defined by object , it is very usefull to reuse the code \n",
    "- the Main concept of OOps are \n",
    "1. Class \n",
    "2. Object"
   ]
  },
  {
   "cell_type": "code",
   "execution_count": 6,
   "metadata": {},
   "outputs": [
    {
     "name": "stdout",
     "output_type": "stream",
     "text": [
      "Jus an Demo \n",
      "Jus an Demo \n",
      "Jus an Demo \n"
     ]
    }
   ],
   "source": [
    "## demo of create a class \n",
    "class demo:\n",
    "    def __str__(self):\n",
    "        return \"Jus an Demo \"\n",
    "a = demo() ; b =demo() ; c = demo()\n",
    "## See we reuse thrice\n",
    "print(a)\n",
    "print(b)\n",
    "print(c)"
   ]
  },
  {
   "cell_type": "markdown",
   "metadata": {},
   "source": [
    "## Q3. How do you distinguish between a class object and an instance object?\n",
    "**Ans**\n",
    "- Class Object is Defined by Class itself \n",
    "- Instance Object is Defined by __init__ function\n",
    "- **example**"
   ]
  },
  {
   "cell_type": "code",
   "execution_count": 12,
   "metadata": {},
   "outputs": [
    {
     "name": "stdout",
     "output_type": "stream",
     "text": [
      "Instance Object : John\n",
      "Class Object : ineuron\n"
     ]
    }
   ],
   "source": [
    "class stud:\n",
    "    institute = \"ineuron\"\n",
    "    def __init__(self,name,course):\n",
    "        self.name =name\n",
    "        self.course = course \n",
    "## Now we see \"institute\" is an object of class called as class object and \n",
    "## \"name and course \" is an instance object belongs to institute \n",
    "john = stud(\"John\",\"BA\")\n",
    "print(f\"Instance Object : {john.name}\") ## Now we get name it is an instance object\n",
    "print(f\"Class Object : {stud.institute}\")  ## now we specify class name for an class object "
   ]
  },
  {
   "cell_type": "markdown",
   "metadata": {},
   "source": [
    "## Q4. What makes the first argument in a class’s method function special?\n",
    "**Ans**\n",
    "- In Python The First Argument in a method is a Pointer it will point your method to the class with the help of pointer.\n",
    "- **ex**"
   ]
  },
  {
   "cell_type": "code",
   "execution_count": 13,
   "metadata": {},
   "outputs": [
    {
     "name": "stdout",
     "output_type": "stream",
     "text": [
      "Hello Welcome All\n"
     ]
    }
   ],
   "source": [
    "class sub:\n",
    "    def greet(self):\n",
    "        return \"Hello Welcome All\"\n",
    "## here \"greet\" is an method inside a class \"self\" is a pointer to point the method to the class \n",
    "## Self is not a keywoard we can specify whatever we want\n",
    "s =sub()\n",
    "print(s.greet())"
   ]
  },
  {
   "cell_type": "markdown",
   "metadata": {},
   "source": [
    "## Q5. What is the purpose of the __init__ method?\n",
    "Ans :-\n",
    "__init__ method we are trying to pass the data , it is used for intialization , initalization of class variable , it is also called as a constructor\n",
    "- __init__ is a keyword "
   ]
  },
  {
   "cell_type": "code",
   "execution_count": 4,
   "metadata": {},
   "outputs": [],
   "source": [
    "class animal:\n",
    "    def __init__(self,name,species,foodtype):\n",
    "        self.name=name\n",
    "        self.species=species\n",
    "        self.food=foodtype\n",
    "    def about(self):\n",
    "        print(\"Hello i am a \",self.name)"
   ]
  },
  {
   "cell_type": "code",
   "execution_count": 5,
   "metadata": {
    "scrolled": true
   },
   "outputs": [
    {
     "name": "stdout",
     "output_type": "stream",
     "text": [
      "Hello i am a  Lion\n"
     ]
    }
   ],
   "source": [
    "lion=animal(\"Lion\",\"Wildlife\",\"carnivores\")\n",
    "lion.about()"
   ]
  },
  {
   "cell_type": "markdown",
   "metadata": {},
   "source": [
    "## Q6. What is the process for creating a class instance?\n",
    "**Ans**\n",
    "- In Python We create a Class instance using python for object Variable \n",
    "- Class Instances can we create by define the class object\n",
    "- **ex**\n",
    "- John is our Class instance \n",
    "- age and gender are class attributes"
   ]
  },
  {
   "cell_type": "code",
   "execution_count": 4,
   "metadata": {},
   "outputs": [
    {
     "name": "stdout",
     "output_type": "stream",
     "text": [
      "30\n"
     ]
    }
   ],
   "source": [
    "class demo:\n",
    "    def __init__(self,age,gender):\n",
    "        self.age = age\n",
    "        self.gender = gender\n",
    "## Now we see \"name\" and \"age\" are class attributes \n",
    "john = demo(30,\"Male\")\n",
    "print(john.age) ## So John is our class instance for the class object ,'Male"
   ]
  },
  {
   "cell_type": "markdown",
   "metadata": {},
   "source": [
    "## Q7. What is the process for creating a class?\n",
    "Ans :-\n",
    "- In Python there is a keyword called as class which is used for creating a new class , then we give name for our class but the name of the class is not in keywords \n",
    "- In General Class is a blueprint "
   ]
  },
  {
   "cell_type": "code",
   "execution_count": 9,
   "metadata": {},
   "outputs": [
    {
     "name": "stdout",
     "output_type": "stream",
     "text": [
      "Python\n"
     ]
    }
   ],
   "source": [
    "class new_class:\n",
    "    name=\"Python\"\n",
    "print(new_class.name)"
   ]
  },
  {
   "cell_type": "markdown",
   "metadata": {},
   "source": [
    "## Q8. How would you define the superclasses of a class?\n",
    "**Ans**\n",
    "- In Python Superclass was Called as a parent class \n",
    "- Subclass are called as a child class \n",
    "- we define a superclass in subclass we gives superclass name in the subclass \n",
    "- In Python isinstance is a buildin function to check the superclass : we define our subclass object and parent class name if it is true it is Subclass "
   ]
  },
  {
   "cell_type": "code",
   "execution_count": 3,
   "metadata": {},
   "outputs": [
    {
     "name": "stdout",
     "output_type": "stream",
     "text": [
      "This is Super Class\n",
      "Is a is a Superclass of : True\n"
     ]
    }
   ],
   "source": [
    "class A:\n",
    "    def __str__(self):\n",
    "        return \"This is Super Class\"\n",
    "class B(A):\n",
    "    pass \n",
    "py = B()\n",
    "print(py)\n",
    "print(f\"Is a is a Superclass of : {isinstance(py,a)}\")\n",
    "## here  \"A\" is a superclass and b is a subclass "
   ]
  },
  {
   "cell_type": "code",
   "execution_count": null,
   "metadata": {},
   "outputs": [],
   "source": []
  }
 ],
 "metadata": {
  "kernelspec": {
   "display_name": "Python 3",
   "language": "python",
   "name": "python3"
  },
  "language_info": {
   "codemirror_mode": {
    "name": "ipython",
    "version": 3
   },
   "file_extension": ".py",
   "mimetype": "text/x-python",
   "name": "python",
   "nbconvert_exporter": "python",
   "pygments_lexer": "ipython3",
   "version": "3.7.10"
  }
 },
 "nbformat": 4,
 "nbformat_minor": 4
}
