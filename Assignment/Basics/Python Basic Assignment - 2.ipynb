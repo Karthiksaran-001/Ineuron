{
 "cells": [
  {
   "cell_type": "markdown",
   "metadata": {},
   "source": [
    "# Python Basic Assignment  - 2\n"
   ]
  },
  {
   "cell_type": "markdown",
   "metadata": {},
   "source": [
    "### 1. What are the Boolean data type&#39;s two values? How do you go about writing them?\n",
    "Ans :\n",
    "- There are Two Boolean values named as true and false \n",
    "    - In Python we write true as True and false as False the value of True is 1 and value of false is 0"
   ]
  },
  {
   "cell_type": "code",
   "execution_count": 5,
   "metadata": {},
   "outputs": [
    {
     "name": "stdout",
     "output_type": "stream",
     "text": [
      "1\n"
     ]
    }
   ],
   "source": [
    "a=True\n",
    "b=False\n",
    "print(a-b) ## 1-0=1 value of True 1 value of false 0"
   ]
  },
  {
   "cell_type": "markdown",
   "metadata": {},
   "source": [
    "### 2.What are the three different types of Boolean operators?\n",
    "Ans :\n",
    "- The Three type of boolean  opertors are :\n",
    "1. and(&)\n",
    "2. or(|)\n",
    "3. not"
   ]
  },
  {
   "cell_type": "code",
   "execution_count": 12,
   "metadata": {
    "scrolled": true
   },
   "outputs": [
    {
     "name": "stdout",
     "output_type": "stream",
     "text": [
      "And :  True\n",
      "Or :  True\n",
      "Not :  False\n"
     ]
    }
   ],
   "source": [
    "print(\"And : \",True & True)\n",
    "print(\"Or : \",True | True)\n",
    "print(\"Not : \",not True)"
   ]
  },
  {
   "cell_type": "markdown",
   "metadata": {},
   "source": [
    "### 3. Make a list of each Boolean operator&#39;s truth tables (i.e. every possible combination of Booleanvalues for the operator and what it evaluate ).\n",
    "Ans :\n",
    "- And : If Both are True Returns True\n",
    "- Or : If Anyone are True Returns True\n",
    "- Not : It Reverse where True means False , False means True"
   ]
  },
  {
   "cell_type": "code",
   "execution_count": 23,
   "metadata": {},
   "outputs": [
    {
     "name": "stdout",
     "output_type": "stream",
     "text": [
      "And Operators\n",
      "True\n",
      "False\n",
      "False\n",
      "False\n",
      "---------------------------------------------------------------------------\n",
      "Or Operators\n",
      "True\n",
      "True\n",
      "True\n",
      "False\n",
      "---------------------------------------------------------------------------\n",
      "Not Operators\n",
      "False\n",
      "True\n"
     ]
    }
   ],
   "source": [
    "## Possible Combination \n",
    "## And operator :\n",
    "print(\"And Operators\")\n",
    "print(True and True)\n",
    "print(True and False)\n",
    "print(False and True)\n",
    "print(False and False)\n",
    "print(\"-\"*75)\n",
    "## Or Operator\n",
    "print(\"Or Operators\")\n",
    "print(True or True)\n",
    "print(True or False)\n",
    "print(False or True)\n",
    "print(False or False)\n",
    "print(\"-\"*75)\n",
    "## not Operator\n",
    "print(\"Not Operators\")\n",
    "print(not True )\n",
    "print(not False )\n",
    "\n"
   ]
  },
  {
   "cell_type": "markdown",
   "metadata": {},
   "source": [
    "### 4. What are the values of the following expressions?\n",
    "Ans :-\n",
    "- (5 &gt; 4) and (3 == 5) :- False\n",
    "- not (5 &gt; 4) :- False\n",
    "- (5 &gt; 4) or (3 == 5) :- True\n",
    "- not ((5 &gt; 4) or (3 == 5)) :- False\n",
    "- (True and True) and (True == False) :- False\n",
    "- (not False) or (not True) :- True"
   ]
  },
  {
   "cell_type": "markdown",
   "metadata": {},
   "source": [
    "### 5. What are the six different types of reference operators?\n",
    "Ans :-\n",
    "1. Equality Operator ex : 10==10\n",
    "2. Not equal Operator ex : 10!=20\n",
    "3. Less Than Opeartor ex : 10< 20\n",
    "4. Greater Than operator ex : 20 >10\n",
    "5. Greater Than Equals to ex : 20 >=10\n",
    "6. Lesser Than Equals to ex : 10 <=20"
   ]
  },
  {
   "cell_type": "markdown",
   "metadata": {},
   "source": [
    "### 6. How do you tell the difference between the equal to and assignment operators?\n",
    "Ans :-\n",
    "- a=10 this is assignment operator to assign a has 10\n",
    "- 10==10 this is equal that both are 10"
   ]
  },
  {
   "cell_type": "markdown",
   "metadata": {},
   "source": [
    "### 7. Describe a condition and when you would use one.\n",
    "Ans :\n",
    "- if when the condition meets true it print if statment\n",
    "- elif when if condition fails it check elif condition it meets true it print elif statement\n",
    "- else when no condition gets true it print else statement\n"
   ]
  },
  {
   "cell_type": "code",
   "execution_count": 29,
   "metadata": {},
   "outputs": [
    {
     "name": "stdout",
     "output_type": "stream",
     "text": [
      "Enter a Number : 10\n",
      "This is 10\n"
     ]
    }
   ],
   "source": [
    "a=int(input(\"Enter a Number : \"))\n",
    "if (a==10):\n",
    "    print(\"This is 10\")\n",
    "elif(a>10 and a<=20):\n",
    "    print(\"It ranges between 11 to 20\")\n",
    "else :\n",
    "    print(\"Undefined\")"
   ]
  },
  {
   "cell_type": "markdown",
   "metadata": {},
   "source": [
    "### 8. Recognize the following three blocks in this code?\n"
   ]
  },
  {
   "cell_type": "code",
   "execution_count": 36,
   "metadata": {},
   "outputs": [
    {
     "name": "stdout",
     "output_type": "stream",
     "text": [
      "Spam\n"
     ]
    }
   ],
   "source": [
    "\n",
    "spam = 0\n",
    "if spam == 10: ## First Block It meets true print eggs\n",
    "    print(\"eggs\")\n",
    "    if spam > 5: ## if statment true it gets inside check \n",
    "         print(\"bacon\")\n",
    "    else: #3 otherwise it print \n",
    "         print(\"ham\")\n",
    "    print(\"Spam\")\n",
    "print(\"Spam\")\n",
    "    "
   ]
  },
  {
   "cell_type": "markdown",
   "metadata": {},
   "source": [
    "### 9. Create a programme that prints. If 1 is stored in spam, prints Hello; if 2 is stored in spam, printsHowdy; and if 3 is stored in spam, prints Salutations! if there&#39;s something else in spam.\n",
    "Code :"
   ]
  },
  {
   "cell_type": "code",
   "execution_count": 38,
   "metadata": {},
   "outputs": [
    {
     "name": "stdout",
     "output_type": "stream",
     "text": [
      "Enter a value10\n",
      "if there's something else in spam\n"
     ]
    }
   ],
   "source": [
    "spam=int(input(\"Enter a value\"))\n",
    "if (spam==1):\n",
    "    print(\"Hello\")\n",
    "elif (spam==2):\n",
    "    print(\"Spam\")\n",
    "elif(spam==3):\n",
    "    print(\"salutations\")\n",
    "else:\n",
    "    print(\"if there's something else in spam\")"
   ]
  },
  {
   "cell_type": "markdown",
   "metadata": {},
   "source": [
    "### 10.If your programme is stuck in an endless loop, what keys can you press?\n",
    "Ans :-\n",
    "**Break** is  a keyword that ends the loops"
   ]
  },
  {
   "cell_type": "markdown",
   "metadata": {},
   "source": [
    "### 11. How can you tell the difference between break and continue?\n",
    "Ans :-\n",
    "- Break : it execute untill the break apperas\n",
    "- continue : it Only leave an value where continue statment appears "
   ]
  },
  {
   "cell_type": "code",
   "execution_count": 39,
   "metadata": {},
   "outputs": [
    {
     "name": "stdout",
     "output_type": "stream",
     "text": [
      "Continue Condition\n",
      "0\n",
      "1\n",
      "2\n",
      "4\n",
      "---------------------------------------------------------------------------\n",
      "Break Condition\n",
      "0\n",
      "1\n",
      "2\n"
     ]
    }
   ],
   "source": [
    "## Continue :\n",
    "print(\"Continue Condition\")\n",
    "for i in range(5):\n",
    "    if(i==3):\n",
    "        continue\n",
    "    print(i)\n",
    "print(\"-\"*75)\n",
    "## Break :\n",
    "print(\"Break Condition\")\n",
    "for i in range(5):\n",
    "    if(i==3):\n",
    "        break\n",
    "    print(i)"
   ]
  },
  {
   "cell_type": "markdown",
   "metadata": {},
   "source": [
    "### 12. In a for loop, what is the difference between range(10), range(0, 10), and range(0, 10, 1)?\n",
    "Ans :-\n",
    "By default three are Same becozz range contain three values (start:end:step)\n",
    "- By default start is 0 and step is 1 so range(10),range(0,10),range(0,10,1) are print 0 to 9"
   ]
  },
  {
   "cell_type": "code",
   "execution_count": 46,
   "metadata": {
    "scrolled": true
   },
   "outputs": [
    {
     "name": "stdout",
     "output_type": "stream",
     "text": [
      "Range 10\n",
      "0\n",
      "1\n",
      "2\n",
      "3\n",
      "4\n",
      "5\n",
      "6\n",
      "7\n",
      "8\n",
      "9\n",
      "----------------------------------------------------------------------------------------------------\n",
      "Range 0, 10\n",
      "0\n",
      "1\n",
      "2\n",
      "3\n",
      "4\n",
      "5\n",
      "6\n",
      "7\n",
      "8\n",
      "9\n",
      "----------------------------------------------------------------------------------------------------\n",
      "Range 0,10,1\n",
      "0\n",
      "1\n",
      "2\n",
      "3\n",
      "4\n",
      "5\n",
      "6\n",
      "7\n",
      "8\n",
      "9\n",
      "----------------------------------------------------------------------------------------------------\n"
     ]
    }
   ],
   "source": [
    "print(\"Range 10\")\n",
    "for i in  range(10):\n",
    "    print(i)\n",
    "print(\"-\"*100)\n",
    "print(\"Range 0, 10\")\n",
    "for i in  range(0,10):\n",
    "    print(i)\n",
    "print(\"-\"*100)\n",
    "print(\"Range 0,10,1\")\n",
    "for i in  range(0,10,1):\n",
    "    print(i)\n",
    "print(\"-\"*100)"
   ]
  },
  {
   "cell_type": "markdown",
   "metadata": {},
   "source": [
    "### 13. Using a for loop, write a short programme that prints the numbers 1 to 10 Then, using a whileloop, create an identical programme that prints the numbers 1 to 10."
   ]
  },
  {
   "cell_type": "code",
   "execution_count": 49,
   "metadata": {
    "scrolled": true
   },
   "outputs": [
    {
     "name": "stdout",
     "output_type": "stream",
     "text": [
      "For Loop : \n",
      "1\n",
      "2\n",
      "3\n",
      "4\n",
      "5\n",
      "6\n",
      "7\n",
      "8\n",
      "9\n",
      "10\n",
      "----------------------------------------------------------------------------------------------------\n",
      "While Loop : \n",
      "1\n",
      "2\n",
      "3\n",
      "4\n",
      "5\n",
      "6\n",
      "7\n",
      "8\n",
      "9\n",
      "10\n"
     ]
    }
   ],
   "source": [
    "print(\"For Loop : \")\n",
    "for i in  range(1,11):\n",
    "    print(i)\n",
    "print(\"-\"*100)\n",
    "print(\"While Loop : \")\n",
    "count=1\n",
    "while count <=10:\n",
    "    print(count)\n",
    "    count+=1"
   ]
  },
  {
   "cell_type": "markdown",
   "metadata": {},
   "source": [
    "### 14. If you had a bacon() function within a spam module, what would you call it after importing spam?\n",
    "Ans :-\n",
    "Python is an Object Oriented Programming So we should create an Object for bacon after import spam module\n",
    "- Ex:-\n",
    "- >>> import spam\n",
    "- >>> bac=spam.bacon()\n",
    "\n",
    "- So if we want to use bacon function we use bac variable\n"
   ]
  }
 ],
 "metadata": {
  "kernelspec": {
   "display_name": "Python 3",
   "language": "python",
   "name": "python3"
  },
  "language_info": {
   "codemirror_mode": {
    "name": "ipython",
    "version": 3
   },
   "file_extension": ".py",
   "mimetype": "text/x-python",
   "name": "python",
   "nbconvert_exporter": "python",
   "pygments_lexer": "ipython3",
   "version": "3.7.6"
  }
 },
 "nbformat": 4,
 "nbformat_minor": 4
}
