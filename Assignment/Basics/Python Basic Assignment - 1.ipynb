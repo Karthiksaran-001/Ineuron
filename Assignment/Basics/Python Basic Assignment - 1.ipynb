{
 "cells": [
  {
   "cell_type": "markdown",
   "metadata": {},
   "source": [
    "# Python Basic Assignment - 1"
   ]
  },
  {
   "cell_type": "markdown",
   "metadata": {},
   "source": [
    "### 1. What are the differences between operators and values in the following? (*,'hello','-87.8',-,/,+,6)\n",
    "\n",
    "- Ans :- \n",
    "- Operators Are Used for performs operation on values and variables like : add,subracts,multiply,divide\n",
    "- Values are stored in variable to perform information ex : integer,float,string ex.."
   ]
  },
  {
   "cell_type": "code",
   "execution_count": 7,
   "metadata": {},
   "outputs": [
    {
     "name": "stdout",
     "output_type": "stream",
     "text": [
      "200  : '*' is a astrick symbol in Python it is used for Multiplication it is an Operator\n",
      "Hello  : It is a Value called as String\n",
      "-87.8  : it is a value called as integer\n",
      "-10  : '-' is a minus symbol in Python it is used for Subraction it is an Operator \n",
      "0.5  : '/' is a division symbol in Python it is used for Division it is an Operator \n",
      "30  : '+' is a add symbol in Python it is used for Addition it is an Operator \n",
      "6 It is a  Value called as a Integer in Python\n"
     ]
    }
   ],
   "source": [
    "\n",
    "a,b=10,20\n",
    "print(a*b , \" : '*' is a astrick symbol in Python it is used for Multiplication it is an Operator\")\n",
    "name='Hello'\n",
    "print(name,\" : It is a Value called as String\")\n",
    "n=-87.8\n",
    "print(n,\" : it is a value called as integer\")\n",
    "print(a-b,\" : '-' is a minus symbol in Python it is used for Subraction it is an Operator \")\n",
    "print(a/b,\" : '/' is a division symbol in Python it is used for Division it is an Operator \")\n",
    "print(a+b,\" : '+' is a add symbol in Python it is used for Addition it is an Operator \")\n",
    "v=6\n",
    "print(v,\"It is a  Value called as a Integer in Python\")\n",
    "## In Python We use type()function identify which  while figuring out the type of variable used in the program in the runtime"
   ]
  },
  {
   "cell_type": "markdown",
   "metadata": {},
   "source": [
    "### 2. What is the difference between string and variable?\n",
    "- spam\n",
    "- \"spam\"\n",
    "- Ans :\n",
    "- String is datatype and it is a type of information \n",
    "- Variable is a stored information"
   ]
  },
  {
   "cell_type": "code",
   "execution_count": 12,
   "metadata": {},
   "outputs": [
    {
     "name": "stdout",
     "output_type": "stream",
     "text": [
      "Ineuron  : Now We See 'Ineuron' is a string and spam is a variable which stored 'Ineuron' \n"
     ]
    }
   ],
   "source": [
    "spam=\"Ineuron\"\n",
    "text=\"spam\"\n",
    "print(spam,\" : Now We See 'Ineuron' is a string and spam is a variable which stored 'Ineuron' \")\n"
   ]
  },
  {
   "cell_type": "markdown",
   "metadata": {},
   "source": [
    "### 3.  Describe three different data forms ? \n",
    "Ans :\n",
    "- Data Forms are Generally datatypes there are many datatypes in Python \n",
    "1. Integer (int) : It Store the positive and negative number  ex : 10,-20\n",
    "2. String(str): It Stores the letters and words ex : \"Karthik\" , 'Python'\n",
    "3. float(float) : It Stores decimal numbers like ex : 40.2 ,50.5"
   ]
  },
  {
   "cell_type": "code",
   "execution_count": 11,
   "metadata": {
    "scrolled": true
   },
   "outputs": [
    {
     "name": "stdout",
     "output_type": "stream",
     "text": [
      "<class 'int'>\n",
      "<class 'str'>\n",
      "<class 'float'>\n"
     ]
    }
   ],
   "source": [
    "print(type(10))\n",
    "print(type(\"Python\"))\n",
    "print(type(40.5))"
   ]
  },
  {
   "cell_type": "markdown",
   "metadata": {},
   "source": [
    "### 4.What makes up an expression? What are the functions of all expressions?\n",
    "- Ans :\n",
    "- Expressions represent something, like a number, a string, or an instance of a class. Any value is an expression!"
   ]
  },
  {
   "cell_type": "markdown",
   "metadata": {},
   "source": [
    "### 5. In this chapter, assignment statements such as spam = 10 were added. What&#39;s thedifference between a declaration and an expression?\n",
    "- Ans :\n",
    "- Now We Assign  Spam = 10 it is called declaration , so we declare a variable called spam which contain 10\n",
    "- Expression is a combination of variables , operations and values that gives a result value "
   ]
  },
  {
   "cell_type": "code",
   "execution_count": 14,
   "metadata": {
    "scrolled": true
   },
   "outputs": [
    {
     "name": "stdout",
     "output_type": "stream",
     "text": [
      "10\n",
      "10\n",
      "20\n"
     ]
    }
   ],
   "source": [
    "spam = 10 ## Declare a value \n",
    "g=10 ## Declare a value \n",
    "ans=spam + g ## It is Expression that contain add opeartor to give a result value\n",
    "print(spam)\n",
    "print(g)\n",
    "print(ans)"
   ]
  },
  {
   "cell_type": "markdown",
   "metadata": {},
   "source": [
    "### 6. After running the following code, what does the variable bacon contain?\n",
    "- Ans:\n"
   ]
  },
  {
   "cell_type": "code",
   "execution_count": 17,
   "metadata": {},
   "outputs": [
    {
     "data": {
      "text/plain": [
       "23"
      ]
     },
     "execution_count": 17,
     "metadata": {},
     "output_type": "execute_result"
    }
   ],
   "source": [
    "bacon =22\n",
    "bacon +1\n",
    "## bacon is a variable name contain 22 and we add 1 so the output is 22+1 =23"
   ]
  },
  {
   "cell_type": "markdown",
   "metadata": {},
   "source": [
    "### 7. What should the values of the following two terms be?\n",
    "- 'spam' + 'spamspam'\n",
    "- 'spam' * 3\n",
    "- Ans :"
   ]
  },
  {
   "cell_type": "code",
   "execution_count": 19,
   "metadata": {},
   "outputs": [
    {
     "name": "stdout",
     "output_type": "stream",
     "text": [
      "spamspamspam\n",
      "spamspamspam\n"
     ]
    }
   ],
   "source": [
    "print('spam'+'spamspam') ## It Will Add Two Words spam + spamspam = spamspamspam\n",
    "print('spam'*3) ## It Will multiply add print how many time we want"
   ]
  },
  {
   "cell_type": "markdown",
   "metadata": {},
   "source": [
    "### 8.Why is it that eggs is a true variable name but 100 is not?\n",
    "- Ans : \n",
    "- In Python There is a Set of rules to declare a variable , It always start with alphabet and _(underscore symbol)\n",
    "We Should use numbers after the start letter \n",
    " No Other keys allows to declare a variable other than alphabet , uderscore and numbers\n",
    "- So Only 100 to declare as variable name gives an error "
   ]
  },
  {
   "cell_type": "markdown",
   "metadata": {},
   "source": [
    "### 9. Which of the following three functions may be used to convert a value to an integer, floating-point number, or a string?\n",
    "- Ans :\n",
    "1. int \n",
    "2. float\n",
    "3. str\n"
   ]
  },
  {
   "cell_type": "code",
   "execution_count": 28,
   "metadata": {
    "scrolled": true
   },
   "outputs": [
    {
     "name": "stdout",
     "output_type": "stream",
     "text": [
      "<class 'str'>\n",
      "<class 'float'>\n",
      "<class 'int'>\n"
     ]
    }
   ],
   "source": [
    "a=10 \n",
    "b= str(a)\n",
    "c=float(a)\n",
    "d=int(a)\n",
    "print(type(b))\n",
    "print(type(c))\n",
    "print(type(d))\n"
   ]
  },
  {
   "cell_type": "markdown",
   "metadata": {},
   "source": [
    "### 10. What is the error caused by this expression? What would you do about it?#39;I have eaten &#39; + 99 + &#39; burritos.&#39;\n",
    "- Ans :\n",
    "- **Type Error**\n",
    "- Becozz  Python is a Homogeneous :\n",
    "It means  if two datatypes are same datatypes then only it works \n"
   ]
  },
  {
   "cell_type": "code",
   "execution_count": 29,
   "metadata": {},
   "outputs": [
    {
     "ename": "TypeError",
     "evalue": "can only concatenate str (not \"int\") to str",
     "output_type": "error",
     "traceback": [
      "\u001b[1;31m---------------------------------------------------------------------------\u001b[0m",
      "\u001b[1;31mTypeError\u001b[0m                                 Traceback (most recent call last)",
      "\u001b[1;32m<ipython-input-29-6affbcf2ad3b>\u001b[0m in \u001b[0;36m<module>\u001b[1;34m\u001b[0m\n\u001b[1;32m----> 1\u001b[1;33m \u001b[0mprint\u001b[0m\u001b[1;33m(\u001b[0m\u001b[1;34m'i have eaten'\u001b[0m\u001b[1;33m+\u001b[0m\u001b[1;36m99\u001b[0m\u001b[1;33m+\u001b[0m\u001b[1;34m'burritos'\u001b[0m\u001b[1;33m)\u001b[0m\u001b[1;33m\u001b[0m\u001b[1;33m\u001b[0m\u001b[0m\n\u001b[0m",
      "\u001b[1;31mTypeError\u001b[0m: can only concatenate str (not \"int\") to str"
     ]
    }
   ],
   "source": [
    "print('i have eaten'+99+'burritos')"
   ]
  }
 ],
 "metadata": {
  "kernelspec": {
   "display_name": "Python 3",
   "language": "python",
   "name": "python3"
  },
  "language_info": {
   "codemirror_mode": {
    "name": "ipython",
    "version": 3
   },
   "file_extension": ".py",
   "mimetype": "text/x-python",
   "name": "python",
   "nbconvert_exporter": "python",
   "pygments_lexer": "ipython3",
   "version": "3.7.6"
  }
 },
 "nbformat": 4,
 "nbformat_minor": 4
}
