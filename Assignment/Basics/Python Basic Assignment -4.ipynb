{
 "cells": [
  {
   "cell_type": "markdown",
   "metadata": {},
   "source": [
    "# Python Basic Assignment -4"
   ]
  },
  {
   "cell_type": "markdown",
   "metadata": {},
   "source": [
    "### 1. What exactly is []?\n",
    "Ans :-\n",
    "* [] Square Bracket in Python Declare a List\n",
    "- List is a Collection of different Datatypes and it is immutable . In Simple it is Like a Dynamic Array"
   ]
  },
  {
   "cell_type": "code",
   "execution_count": 1,
   "metadata": {
    "scrolled": true
   },
   "outputs": [
    {
     "data": {
      "text/plain": [
       "list"
      ]
     },
     "execution_count": 1,
     "metadata": {},
     "output_type": "execute_result"
    }
   ],
   "source": [
    "a=[\"Python\",\"JavaScript\",\"Ruby\"]\n",
    "type(a)"
   ]
  },
  {
   "cell_type": "markdown",
   "metadata": {},
   "source": [
    "### 2. In a list of values stored in a variable called spam, how would you assign the value &#39;hello&#39; as thethird value? (Assume [2, 4, 6, 8, 10] are in spam.)\n",
    "Ans :-\n",
    "- In General Python Index Starts with 0 so if we want to insert an element we give an index as 2 becaozz(0,1,2)\n",
    "- There is inbuild function called insert were we insert an element were we want"
   ]
  },
  {
   "cell_type": "code",
   "execution_count": 5,
   "metadata": {},
   "outputs": [
    {
     "name": "stdout",
     "output_type": "stream",
     "text": [
      "This is before we insert 'hello :' [2, 4, 6, 8, 10] \n",
      "This is after we insert 'hello'  [2, 4, 'hello', 6, 8, 10]\n"
     ]
    }
   ],
   "source": [
    "spam=[2,4,6,8,10]\n",
    "print(f\"This is before we insert 'hello :' {spam} \")\n",
    "spam.insert(2,'hello')\n",
    "print(\"This is after we insert 'hello' \",spam)"
   ]
  },
  {
   "cell_type": "code",
   "execution_count": 7,
   "metadata": {},
   "outputs": [],
   "source": [
    "spam=['a','b','c','d']"
   ]
  },
  {
   "cell_type": "markdown",
   "metadata": {},
   "source": [
    "### 3. What is the value of spam[int(int(&#39;3&#39; * 2) / 11)]?"
   ]
  },
  {
   "cell_type": "code",
   "execution_count": 9,
   "metadata": {},
   "outputs": [
    {
     "data": {
      "text/plain": [
       "'d'"
      ]
     },
     "execution_count": 9,
     "metadata": {},
     "output_type": "execute_result"
    }
   ],
   "source": [
    "spam[int(int(\"3\"* 2) / 11)]"
   ]
  },
  {
   "cell_type": "markdown",
   "metadata": {},
   "source": [
    "### 4. What is the value of spam[-1]?\n",
    "Ans :-\n",
    "- -1 Always comes by reverse order,so the answer is \"d\""
   ]
  },
  {
   "cell_type": "code",
   "execution_count": 10,
   "metadata": {},
   "outputs": [
    {
     "data": {
      "text/plain": [
       "'d'"
      ]
     },
     "execution_count": 10,
     "metadata": {},
     "output_type": "execute_result"
    }
   ],
   "source": [
    "spam[-1]"
   ]
  },
  {
   "cell_type": "markdown",
   "metadata": {},
   "source": [
    "### 5. What is the value of spam[:2]?\n",
    "Ans :-\n",
    "- index of 2 means 3rd element becozz python index start with 0 , so the answer is \"c\""
   ]
  },
  {
   "cell_type": "code",
   "execution_count": 11,
   "metadata": {
    "scrolled": true
   },
   "outputs": [
    {
     "data": {
      "text/plain": [
       "'c'"
      ]
     },
     "execution_count": 11,
     "metadata": {},
     "output_type": "execute_result"
    }
   ],
   "source": [
    "spam[2]"
   ]
  },
  {
   "cell_type": "code",
   "execution_count": 17,
   "metadata": {},
   "outputs": [],
   "source": [
    "bacon= [3.14, \"cat\",11,\"cat\",True]"
   ]
  },
  {
   "cell_type": "markdown",
   "metadata": {},
   "source": [
    "### 6. What is the value of bacon.index(&#39;cat&#39;)?\n",
    "Ans :-\n",
    "- In Python there is a inbuild function called index which help to find the index of the element\n",
    "- Note :- if there are multiple element repeat same it find only on the first occurance"
   ]
  },
  {
   "cell_type": "code",
   "execution_count": 19,
   "metadata": {},
   "outputs": [
    {
     "name": "stdout",
     "output_type": "stream",
     "text": [
      "The Index of the cat is :  1\n"
     ]
    }
   ],
   "source": [
    "bacon.index(\"cat\")\n",
    "print(\"The Index of the cat is : \",bacon.index(\"cat\"))"
   ]
  },
  {
   "cell_type": "markdown",
   "metadata": {},
   "source": [
    "### 7. How does bacon.append(99) change the look of the list value in bacon?\n",
    "ans :- \n",
    "- append is an inbuild function to insert an element an last of the list"
   ]
  },
  {
   "cell_type": "code",
   "execution_count": 20,
   "metadata": {},
   "outputs": [
    {
     "name": "stdout",
     "output_type": "stream",
     "text": [
      "Before the append function :  [3.14, 'cat', 11, 'cat', True]\n",
      "After the append Function :  [3.14, 'cat', 11, 'cat', True, 99]\n"
     ]
    }
   ],
   "source": [
    "print(\"Before the append function : \",bacon)\n",
    "bacon.append(99)\n",
    "print(\"After the append Function : \" ,bacon)"
   ]
  },
  {
   "cell_type": "markdown",
   "metadata": {},
   "source": [
    "### 8. How does bacon.remove(&#39;cat&#39;) change the look of the list meaning in bacon?\n",
    "Ans:-\n",
    "- The remove method removes the first matching element from the list.\n",
    "- So it will remove the first in the list"
   ]
  },
  {
   "cell_type": "code",
   "execution_count": 21,
   "metadata": {
    "scrolled": true
   },
   "outputs": [
    {
     "name": "stdout",
     "output_type": "stream",
     "text": [
      "Before remove :  [3.14, 'cat', 11, 'cat', True, 99]\n",
      "After remove :  [3.14, 11, 'cat', True, 99]\n"
     ]
    }
   ],
   "source": [
    "print(\"Before remove : \",bacon)\n",
    "bacon.remove(\"cat\")\n",
    "print(\"After remove : \",bacon)"
   ]
  },
  {
   "cell_type": "markdown",
   "metadata": {},
   "source": [
    "### 9. What are the list concatenation and list replication operators?\n",
    "Ans :-\n",
    "- List Concatenation is add two List ,the Symbol is \"+\"\n",
    "- List replication is return how many times we want , the symbol is \"*\""
   ]
  },
  {
   "cell_type": "code",
   "execution_count": 30,
   "metadata": {},
   "outputs": [
    {
     "data": {
      "text/plain": [
       "([1, 2, 3, 4, 5], [11, 12, 13, 14, 15])"
      ]
     },
     "execution_count": 30,
     "metadata": {},
     "output_type": "execute_result"
    }
   ],
   "source": [
    "a=[i for i in range(1,6)]\n",
    "\n",
    "b=[i for i in range(11,16)]\n",
    "a,b"
   ]
  },
  {
   "cell_type": "code",
   "execution_count": 32,
   "metadata": {},
   "outputs": [
    {
     "name": "stdout",
     "output_type": "stream",
     "text": [
      "[1, 2, 3, 4, 5, 11, 12, 13, 14, 15]\n",
      "[1, 2, 3, 4, 5, 1, 2, 3, 4, 5, 1, 2, 3, 4, 5]\n"
     ]
    }
   ],
   "source": [
    "print(a+b) ## Concatenation \n",
    "print(a*3) ## Replication"
   ]
  },
  {
   "cell_type": "markdown",
   "metadata": {},
   "source": [
    "## 10. What is difference between the list methods append() and insert()?\n",
    "Ans :-\n",
    "- append method add the element at last of the list\n",
    "- insert method add the element where we want"
   ]
  },
  {
   "cell_type": "code",
   "execution_count": 33,
   "metadata": {},
   "outputs": [
    {
     "data": {
      "text/plain": [
       "([1, 2, 3, 4, 5], [11, 12, 13, 14, 15])"
      ]
     },
     "execution_count": 33,
     "metadata": {},
     "output_type": "execute_result"
    }
   ],
   "source": [
    "a,b"
   ]
  },
  {
   "cell_type": "code",
   "execution_count": 34,
   "metadata": {},
   "outputs": [
    {
     "data": {
      "text/plain": [
       "([1, 2, 3, 4, 5, 10], [11, 10, 12, 13, 14, 15])"
      ]
     },
     "execution_count": 34,
     "metadata": {},
     "output_type": "execute_result"
    }
   ],
   "source": [
    "a.append(10)\n",
    "b.insert(1,10)\n",
    "a,b"
   ]
  },
  {
   "cell_type": "markdown",
   "metadata": {},
   "source": [
    "### 11. What are the two methods for removing items from a list?\n",
    "ans :-\n",
    "- Remove method remove the given  element\n",
    "- pop method gives the index to remove the element ,but bydefault pop removes -1 if we dont give the value"
   ]
  },
  {
   "cell_type": "code",
   "execution_count": 35,
   "metadata": {
    "scrolled": true
   },
   "outputs": [
    {
     "data": {
      "text/plain": [
       "([1, 2, 3, 4, 5], [11, 12, 13, 14, 15])"
      ]
     },
     "execution_count": 35,
     "metadata": {},
     "output_type": "execute_result"
    }
   ],
   "source": [
    "a.remove(10)\n",
    "b.pop(1)\n",
    "a,b"
   ]
  },
  {
   "cell_type": "markdown",
   "metadata": {},
   "source": [
    "### 12. Describe how list values and string values are identical.\n",
    "Ans :-\n",
    "- To declare String DataType \" \" and to declare List DataType []\n",
    "- There are some identical function in both string and list like concatenation,slicing etc"
   ]
  },
  {
   "cell_type": "markdown",
   "metadata": {},
   "source": [
    "## 13.What&#39;s the difference between tuples and lists?\n",
    "Ans :-\n",
    "- both are sequential datatype\n",
    "- List is an immutable datatype and Tuple is a mutable datatype(it means once we assign value we dont modify)\n",
    "- To decclare a list we use square bracket [] ,to declare tuple we use round bracket ()\n",
    "- List Consume more memory but tuple consume less memory "
   ]
  },
  {
   "cell_type": "code",
   "execution_count": 36,
   "metadata": {},
   "outputs": [],
   "source": [
    "g=[1,2,3,4]\n",
    "f=(4,7,8,2)"
   ]
  },
  {
   "cell_type": "code",
   "execution_count": 38,
   "metadata": {},
   "outputs": [
    {
     "data": {
      "text/plain": [
       "[1, 2, 5, 4]"
      ]
     },
     "execution_count": 38,
     "metadata": {},
     "output_type": "execute_result"
    }
   ],
   "source": [
    "## Modify in list\n",
    "g[2]=5\n",
    "g"
   ]
  },
  {
   "cell_type": "code",
   "execution_count": 40,
   "metadata": {
    "scrolled": true
   },
   "outputs": [
    {
     "ename": "TypeError",
     "evalue": "'tuple' object does not support item assignment",
     "output_type": "error",
     "traceback": [
      "\u001b[1;31m---------------------------------------------------------------------------\u001b[0m",
      "\u001b[1;31mTypeError\u001b[0m                                 Traceback (most recent call last)",
      "\u001b[1;32m<ipython-input-40-6422a523f4b4>\u001b[0m in \u001b[0;36m<module>\u001b[1;34m\u001b[0m\n\u001b[0;32m      1\u001b[0m \u001b[1;31m## we cannot modify in tuple\u001b[0m\u001b[1;33m\u001b[0m\u001b[1;33m\u001b[0m\u001b[1;33m\u001b[0m\u001b[0m\n\u001b[1;32m----> 2\u001b[1;33m \u001b[0mf\u001b[0m\u001b[1;33m[\u001b[0m\u001b[1;36m2\u001b[0m\u001b[1;33m]\u001b[0m\u001b[1;33m=\u001b[0m\u001b[1;36m10\u001b[0m\u001b[1;33m\u001b[0m\u001b[1;33m\u001b[0m\u001b[0m\n\u001b[0m",
      "\u001b[1;31mTypeError\u001b[0m: 'tuple' object does not support item assignment"
     ]
    }
   ],
   "source": [
    "## we cannot modify in tuple\n",
    "f[2]=10"
   ]
  },
  {
   "cell_type": "markdown",
   "metadata": {},
   "source": [
    "## 14. How do you type a tuple value that only contains the integer 42?"
   ]
  },
  {
   "cell_type": "code",
   "execution_count": 41,
   "metadata": {
    "scrolled": true
   },
   "outputs": [
    {
     "name": "stdout",
     "output_type": "stream",
     "text": [
      "10 their datatypes :  <class 'int'>\n",
      "20 their datatypes :  <class 'int'>\n",
      "apple their datatypes :  <class 'str'>\n",
      "42 their datatypes :  <class 'int'>\n",
      "True their datatypes :  <class 'bool'>\n"
     ]
    }
   ],
   "source": [
    "s=(10,20,\"apple\",42,True)\n",
    "for i in s:\n",
    "    print(i,\"their datatypes : \",type(i))"
   ]
  },
  {
   "cell_type": "code",
   "execution_count": 42,
   "metadata": {},
   "outputs": [
    {
     "name": "stdout",
     "output_type": "stream",
     "text": [
      "The type of 42 is :  <class 'int'>\n"
     ]
    }
   ],
   "source": [
    "for i in s:\n",
    "    if i==42:\n",
    "        print(\"The type of 42 is : \",type(i))"
   ]
  },
  {
   "cell_type": "markdown",
   "metadata": {},
   "source": [
    "### 15. How do you get a list value&#39;s tuple form? How do you get a tuple value&#39;s list form?\n",
    "Ans :- \n",
    "- using type convertion \n",
    "- list and tuple are the keyword we use"
   ]
  },
  {
   "cell_type": "code",
   "execution_count": 44,
   "metadata": {
    "scrolled": true
   },
   "outputs": [
    {
     "name": "stdout",
     "output_type": "stream",
     "text": [
      "[1, 2, 5, 4] <class 'list'> (4, 7, 8, 2) <class 'tuple'>\n"
     ]
    }
   ],
   "source": [
    "print(g,type(g),f,type(f))"
   ]
  },
  {
   "cell_type": "code",
   "execution_count": 47,
   "metadata": {},
   "outputs": [
    {
     "name": "stdout",
     "output_type": "stream",
     "text": [
      "(1, 2, 5, 4) <class 'tuple'> [4, 7, 8, 2] <class 'list'>\n"
     ]
    }
   ],
   "source": [
    "g=tuple(g)\n",
    "f=list(f)\n",
    "print(g,type(g),f,type(f))"
   ]
  },
  {
   "cell_type": "markdown",
   "metadata": {},
   "source": [
    "## 16. Variables that &quot;contain&quot; list values are not necessarily lists themselves. Instead, what do theycontain?\n",
    "Ans :-\n",
    "- In General List is unordered so List Value are stord in index Format"
   ]
  },
  {
   "cell_type": "markdown",
   "metadata": {},
   "source": [
    "## 17. How do you distinguish between copy.copy() and copy.deepcopy()?\n",
    "Ans :-\n",
    "- in normal list copy.copy() and copy.deepcopy() are same it wont change\n",
    "- but in nested list .copy() we change orginal list it change to copy list but it doesn't change in deepcopy() \n",
    "- Copy function only copy the element but the memory of both are different"
   ]
  },
  {
   "cell_type": "markdown",
   "metadata": {},
   "source": [
    "#### Copy"
   ]
  },
  {
   "cell_type": "code",
   "execution_count": 59,
   "metadata": {
    "scrolled": true
   },
   "outputs": [
    {
     "name": "stdout",
     "output_type": "stream",
     "text": [
      "[10, 20, 30] [10, 20, 30]\n",
      "[10, 100, 30] [10, 20, 30]\n",
      "[[1, 2, 3], [4, 5, 6]] [[1, 2, 3], [4, 5, 6]]\n",
      "[[1, 20, 3], [4, 5, 6]] [[1, 20, 3], [4, 5, 6]]\n"
     ]
    }
   ],
   "source": [
    "## Copy:\n",
    "## Normal list :\n",
    "w=[10,20,30]\n",
    "r=w.copy()\n",
    "print(w,r)\n",
    "w[1]=100\n",
    "print(w,r)\n",
    "## Nested List\n",
    "a=[[1,2,3],[4,5,6]]\n",
    "b=a.copy()\n",
    "print(a,b)\n",
    "a[0][1]=20\n",
    "print(a,b) ## Now we see it change  both are change into 20"
   ]
  },
  {
   "cell_type": "markdown",
   "metadata": {},
   "source": [
    "#### DeepCopy"
   ]
  },
  {
   "cell_type": "code",
   "execution_count": 62,
   "metadata": {},
   "outputs": [
    {
     "name": "stdout",
     "output_type": "stream",
     "text": [
      "[10, 20, 30] [10, 20, 30]\n",
      "[10, 100, 30] [10, 20, 30]\n",
      "[[1, 2, 3], [4, 5, 6]] [[1, 2, 3], [4, 5, 6]]\n",
      "[[1, 20, 3], [4, 5, 6]] [[1, 2, 3], [4, 5, 6]]\n"
     ]
    }
   ],
   "source": [
    "import copy\n",
    "\n",
    "## Normal list :\n",
    "w=[10,20,30]\n",
    "r=copy.deepcopy(w)\n",
    "print(w,r)\n",
    "w[1]=100\n",
    "print(w,r)\n",
    "## Nested List\n",
    "a=[[1,2,3],[4,5,6]]\n",
    "b=copy.deepcopy(a)\n",
    "print(a,b)\n",
    "a[0][1]=20\n",
    "print(a,b) ## Now we see it cannot change"
   ]
  },
  {
   "cell_type": "code",
   "execution_count": 50,
   "metadata": {},
   "outputs": [],
   "source": []
  },
  {
   "cell_type": "code",
   "execution_count": null,
   "metadata": {},
   "outputs": [],
   "source": []
  }
 ],
 "metadata": {
  "kernelspec": {
   "display_name": "Python 3",
   "language": "python",
   "name": "python3"
  },
  "language_info": {
   "codemirror_mode": {
    "name": "ipython",
    "version": 3
   },
   "file_extension": ".py",
   "mimetype": "text/x-python",
   "name": "python",
   "nbconvert_exporter": "python",
   "pygments_lexer": "ipython3",
   "version": "3.7.6"
  }
 },
 "nbformat": 4,
 "nbformat_minor": 4
}
