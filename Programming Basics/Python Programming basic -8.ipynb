{
 "cells": [
  {
   "cell_type": "markdown",
   "metadata": {},
   "source": [
    "## Python Programming -8"
   ]
  },
  {
   "cell_type": "markdown",
   "metadata": {},
   "source": [
    "**1. Write a Python Program to Add Two Matrices?**"
   ]
  },
  {
   "cell_type": "code",
   "execution_count": 1,
   "metadata": {},
   "outputs": [
    {
     "name": "stdout",
     "output_type": "stream",
     "text": [
      "[17, 15, 4]\n",
      "[10, 12, 9]\n",
      "[11, 13, 18]\n"
     ]
    }
   ],
   "source": [
    "\n",
    "X = [[12,7,3],\n",
    "    [4 ,5,6],\n",
    "    [7 ,8,9]]\n",
    "\n",
    "Y = [[5,8,1],\n",
    "    [6,7,3],\n",
    "    [4,5,9]]\n",
    "\n",
    "result = [[0,0,0],\n",
    "         [0,0,0],\n",
    "         [0,0,0]]\n",
    "\n",
    "\n",
    "for i in range(len(X)):\n",
    "  \n",
    "   for j in range(len(X[0])):\n",
    "       result[i][j] = X[i][j] + Y[i][j]\n",
    "\n",
    "for r in result:\n",
    "   print(r)\n"
   ]
  },
  {
   "cell_type": "markdown",
   "metadata": {},
   "source": [
    "**2. Write a Python Program to Multiply Two Matrices?**"
   ]
  },
  {
   "cell_type": "code",
   "execution_count": 2,
   "metadata": {},
   "outputs": [
    {
     "name": "stdout",
     "output_type": "stream",
     "text": [
      "[114, 160, 60, 27]\n",
      "[74, 97, 73, 14]\n",
      "[119, 157, 112, 23]\n"
     ]
    }
   ],
   "source": [
    "\n",
    "A = [[12, 7, 3],\n",
    "\t[4, 5, 6],\n",
    "\t[7, 8, 9]]\n",
    "\n",
    "\n",
    "B = [[5, 8, 1, 2],\n",
    "\t[6, 7, 3, 0],\n",
    "\t[4, 5, 9, 1]]\n",
    "\t\n",
    "result = [[0, 0, 0, 0],\n",
    "\t\t[0, 0, 0, 0],\n",
    "\t\t[0, 0, 0, 0]]\n",
    "\n",
    "\n",
    "for i in range(len(A)):\n",
    "\n",
    "\t\n",
    "\tfor j in range(len(B[0])):\n",
    "\n",
    "\t\t\n",
    "\t\tfor k in range(len(B)):\n",
    "\t\t\tresult[i][j] += A[i][k] * B[k][j]\n",
    "\n",
    "for r in result:\n",
    "\tprint(r)\n"
   ]
  },
  {
   "cell_type": "markdown",
   "metadata": {},
   "source": [
    "**3. Write a Python Program to Transpose a Matrix?**"
   ]
  },
  {
   "cell_type": "code",
   "execution_count": 3,
   "metadata": {},
   "outputs": [
    {
     "name": "stdout",
     "output_type": "stream",
     "text": [
      "[[ 4  1]\n",
      " [12  3]]\n"
     ]
    }
   ],
   "source": [
    "\n",
    "import numpy as np\n",
    "\t\t\t\n",
    "\n",
    "a = np.matrix('[4, 1; 12, 3]')\n",
    "\t\t\t\n",
    "# applying matrix.transpose() method\n",
    "b = a.transpose()\n",
    "\t\n",
    "print(a)\n"
   ]
  },
  {
   "cell_type": "markdown",
   "metadata": {},
   "source": [
    "**4. Write a Python Program to Sort Words in Alphabetic Order?**"
   ]
  },
  {
   "cell_type": "code",
   "execution_count": 4,
   "metadata": {},
   "outputs": [
    {
     "name": "stdout",
     "output_type": "stream",
     "text": [
      "The sorted words are:\n",
      "an\n",
      "cased\n",
      "example\n",
      "hello\n",
      "is\n",
      "letters\n",
      "this\n",
      "with\n"
     ]
    }
   ],
   "source": [
    "\n",
    "my_str = \"Hello this Is an Example With cased letters\"\n",
    "\n",
    "\n",
    "words = [word.lower() for word in my_str.split()]\n",
    "\n",
    "\n",
    "words.sort()\n",
    "\n",
    "\n",
    "\n",
    "print(\"The sorted words are:\")\n",
    "for word in words:\n",
    "   print(word)\n"
   ]
  },
  {
   "cell_type": "markdown",
   "metadata": {},
   "source": [
    "**5. Write a Python Program to Remove Punctuation From a String?**"
   ]
  },
  {
   "cell_type": "code",
   "execution_count": 6,
   "metadata": {},
   "outputs": [
    {
     "name": "stdout",
     "output_type": "stream",
     "text": [
      "Hey guys How are you "
     ]
    }
   ],
   "source": [
    "import string \n",
    "from nltk.tokenize import word_tokenize\n",
    "s =  set(string.punctuation)        \n",
    "sentence = \"Hey guys !, How are you' ?\"\n",
    "sentence = word_tokenize(sentence)\n",
    "filtered_word = []\n",
    "for i in sentence:\n",
    "    if i not in s:\n",
    "        filtered_word.append(i)\n",
    "for word in filtered_word:\n",
    "  print(word,end = \" \")\n",
    "\n"
   ]
  },
  {
   "cell_type": "code",
   "execution_count": null,
   "metadata": {},
   "outputs": [],
   "source": []
  }
 ],
 "metadata": {
  "interpreter": {
   "hash": "88d17a3ad8249345933942dc93661033703888b482aa7ea22819b145d6bd0916"
  },
  "kernelspec": {
   "display_name": "Python 3.7.6 ('base')",
   "language": "python",
   "name": "python3"
  },
  "language_info": {
   "codemirror_mode": {
    "name": "ipython",
    "version": 3
   },
   "file_extension": ".py",
   "mimetype": "text/x-python",
   "name": "python",
   "nbconvert_exporter": "python",
   "pygments_lexer": "ipython3",
   "version": "3.7.6"
  },
  "orig_nbformat": 4
 },
 "nbformat": 4,
 "nbformat_minor": 2
}
