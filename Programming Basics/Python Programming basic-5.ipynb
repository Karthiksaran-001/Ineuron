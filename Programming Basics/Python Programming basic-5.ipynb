{
 "cells": [
  {
   "cell_type": "markdown",
   "metadata": {},
   "source": [
    "## Python Programming basic-5"
   ]
  },
  {
   "cell_type": "markdown",
   "metadata": {},
   "source": [
    "## 1. Write a Python Program to Find LCM?"
   ]
  },
  {
   "cell_type": "code",
   "execution_count": 5,
   "metadata": {},
   "outputs": [
    {
     "name": "stdout",
     "output_type": "stream",
     "text": [
      "Enter first number: 12\n",
      "Enter second number: 20\n",
      "The L.C.M. of 12 and 20 is 60\n"
     ]
    }
   ],
   "source": [
    "def lcm(x, y):  \n",
    "    if x > y:  \n",
    "        greater = x  \n",
    "    else:  \n",
    "        greater = y  \n",
    "    while(True):  \n",
    "        if((greater % x == 0) and (greater % y == 0)):  \n",
    "            lcm = greater  \n",
    "            break \n",
    "        greater += 1  \n",
    "    return lcm  \n",
    "  \n",
    "  \n",
    "num1 = int(input(\"Enter first number: \"))  \n",
    "num2 = int(input(\"Enter second number: \"))  \n",
    "print(\"The L.C.M. of\", num1,\"and\", num2,\"is\", lcm(num1, num2))  "
   ]
  },
  {
   "cell_type": "markdown",
   "metadata": {},
   "source": [
    "## 2. Write a Python Program to Find HCF?"
   ]
  },
  {
   "cell_type": "code",
   "execution_count": 7,
   "metadata": {},
   "outputs": [
    {
     "name": "stdout",
     "output_type": "stream",
     "text": [
      "The H.C.F. is 6\n"
     ]
    }
   ],
   "source": [
    "def hcf(x, y):\n",
    "\n",
    "\n",
    "    if x > y:\n",
    "        smaller = y\n",
    "    else:\n",
    "        smaller = x\n",
    "    for i in range(1, smaller+1):\n",
    "        if((x % i == 0) and (y % i == 0)):\n",
    "            hcf = i \n",
    "    return hcf\n",
    "\n",
    "num1 = 54 \n",
    "num2 = 24\n",
    "\n",
    "print(\"The H.C.F. is\", hcf(num1, num2))"
   ]
  },
  {
   "cell_type": "markdown",
   "metadata": {},
   "source": [
    "## 3. Write a Python Program to Convert Decimal to Binary, Octal and Hexadecimal?"
   ]
  },
  {
   "cell_type": "code",
   "execution_count": 9,
   "metadata": {
    "scrolled": true
   },
   "outputs": [
    {
     "name": "stdout",
     "output_type": "stream",
     "text": [
      "Enter your decimal number : 5\n",
      "The decimal value of 5 is:\n",
      "0b101 in binary.\n",
      "0o5 in octal.\n",
      "0x5 in hexadecimal.\n"
     ]
    }
   ],
   "source": [
    "decimal_number = int(input(\"Enter your decimal number : \"))\n",
    "\n",
    "print(\"The decimal value of\", decimal_number, \"is:\")\n",
    "print(bin(decimal_number), \"in binary.\")\n",
    "print(oct(decimal_number), \"in octal.\")\n",
    "print(hex(decimal_number), \"in hexadecimal.\")"
   ]
  },
  {
   "cell_type": "markdown",
   "metadata": {},
   "source": [
    "## 4. Write a Python Program To Find ASCII value of a character?"
   ]
  },
  {
   "cell_type": "markdown",
   "metadata": {},
   "source": [
    "ASCII stands for American Standard Code for Information Interchange."
   ]
  },
  {
   "cell_type": "code",
   "execution_count": 11,
   "metadata": {},
   "outputs": [
    {
     "name": "stdout",
     "output_type": "stream",
     "text": [
      "Enter the character : u\n",
      "The ASCII value of 'u' is 117\n"
     ]
    }
   ],
   "source": [
    "char = input(\"Enter the character : \")\n",
    "print(\"The ASCII value of '\" + char + \"' is\", ord(char))"
   ]
  },
  {
   "cell_type": "markdown",
   "metadata": {},
   "source": [
    "## 5. Write a Python Program to Make a Simple Calculator with 4 basic mathematical operations?"
   ]
  },
  {
   "cell_type": "code",
   "execution_count": 4,
   "metadata": {},
   "outputs": [
    {
     "name": "stdout",
     "output_type": "stream",
     "text": [
      "Welcome To Calculator : \n",
      "Enter your first number : 4\n",
      "Enter your Second number : 2\n",
      "\n",
      "1. Addition\n",
      "2. Subraction\n",
      "3. Multiplication\n",
      "4. Division\n",
      "Select your operation number : 4\n",
      "The addition of 4,2 is : 2 \n"
     ]
    }
   ],
   "source": [
    "def add(a=0,b=0):\n",
    "    return a+b\n",
    "def sub(a=0,b=0):\n",
    "    return a-b\n",
    "def mul(a=0,b=0):\n",
    "    return a*b\n",
    "def div(a=0,b=0):\n",
    "    return a//b\n",
    "print(\"Welcome To Calculator : \")\n",
    "num1=int(input(\"Enter your first number : \"))\n",
    "num2=int(input(\"Enter your Second number : \"))\n",
    "print(\"\"\"\n",
    "1. Addition\n",
    "2. Subraction\n",
    "3. Multiplication\n",
    "4. Division\"\"\")\n",
    "select=int(input(\"Select your operation number : \"))\n",
    "if(select==1):\n",
    "    a=add(num1,num2)\n",
    "    print(f\"The addition of {num1},{num2} is : {a} \")\n",
    "elif(select==2):\n",
    "    b=mul(num1,num2)\n",
    "    print(f\"The addition of {num1},{num2} is : {b} \")\n",
    "elif(select==3):\n",
    "    d=div(num1,num2)\n",
    "    print(f\"The addition of {num1},{num2} is : {c} \")\n",
    "elif(select==4):\n",
    "    d=sub(num1,num2)\n",
    "    print(f\"The addition of {num1},{num2} is : {d} \")\n",
    "else:\n",
    "    print(\"Sorry Invalid operation\")\n",
    "    "
   ]
  },
  {
   "cell_type": "code",
   "execution_count": null,
   "metadata": {},
   "outputs": [],
   "source": []
  }
 ],
 "metadata": {
  "kernelspec": {
   "display_name": "Python 3",
   "language": "python",
   "name": "python3"
  },
  "language_info": {
   "codemirror_mode": {
    "name": "ipython",
    "version": 3
   },
   "file_extension": ".py",
   "mimetype": "text/x-python",
   "name": "python",
   "nbconvert_exporter": "python",
   "pygments_lexer": "ipython3",
   "version": "3.7.6"
  }
 },
 "nbformat": 4,
 "nbformat_minor": 4
}
