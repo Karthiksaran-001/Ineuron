{
 "cells": [
  {
   "cell_type": "markdown",
   "metadata": {},
   "source": [
    "# Python Programming Basic -7"
   ]
  },
  {
   "cell_type": "markdown",
   "metadata": {},
   "source": [
    "**1. Write a Python Program to find sum of array?**"
   ]
  },
  {
   "cell_type": "code",
   "execution_count": 1,
   "metadata": {},
   "outputs": [
    {
     "name": "stdout",
     "output_type": "stream",
     "text": [
      "Total Sum Of Array is 150\n"
     ]
    }
   ],
   "source": [
    "arr = [10,20,30,40,50]\n",
    "sum=0\n",
    "\n",
    "for i in arr:\n",
    "    if(type(i) == int):\n",
    "        sum = sum+i\n",
    "print(f\"Total Sum Of Array is {sum}\")"
   ]
  },
  {
   "cell_type": "markdown",
   "metadata": {},
   "source": [
    "**2. Write a Python Program to find largest element in an array?**"
   ]
  },
  {
   "cell_type": "code",
   "execution_count": 2,
   "metadata": {},
   "outputs": [
    {
     "name": "stdout",
     "output_type": "stream",
     "text": [
      "Largest in given array is : 9808\n"
     ]
    }
   ],
   "source": [
    "\n",
    "def largest(arr,n):\n",
    "\n",
    "\t\n",
    "\tmax = arr[0]\n",
    "\n",
    "\tfor i in range(1, n):\n",
    "\t\tif arr[i] > max:\n",
    "\t\t\tmax = arr[i]\n",
    "\treturn max\n",
    "\n",
    "\n",
    "arr = [10, 324, 45, 90, 9808]\n",
    "n = len(arr)\n",
    "Ans = largest(arr,n)\n",
    "print (f\"Largest in given array is : {Ans}\")\n",
    "\n"
   ]
  },
  {
   "cell_type": "markdown",
   "metadata": {},
   "source": [
    "**3. Write a Python Program for array rotation?**"
   ]
  },
  {
   "cell_type": "code",
   "execution_count": 3,
   "metadata": {},
   "outputs": [
    {
     "name": "stdout",
     "output_type": "stream",
     "text": [
      "Array after left rotation is:  [3, 4, 5, 6, 7, 1, 2]\n"
     ]
    }
   ],
   "source": [
    "\n",
    "def rotateArray(arr, n, d):\n",
    "\ttemp = []\n",
    "\ti = 0\n",
    "\twhile (i < d):\n",
    "\t\ttemp.append(arr[i])\n",
    "\t\ti = i + 1\n",
    "\ti = 0\n",
    "\twhile (d < n):\n",
    "\t\tarr[i] = arr[d]\n",
    "\t\ti = i + 1\n",
    "\t\td = d + 1\n",
    "\tarr[:] = arr[: i] + temp\n",
    "\treturn arr\n",
    "\n",
    "\n",
    "\n",
    "arr = [1, 2, 3, 4, 5, 6, 7]\n",
    "print(\"Array after left rotation is: \", end=' ')\n",
    "print(rotateArray(arr, len(arr), 2))\n",
    "\n"
   ]
  },
  {
   "cell_type": "markdown",
   "metadata": {},
   "source": [
    "**4. Write a Python Program to Split the array and add the first part to the end?**"
   ]
  },
  {
   "cell_type": "code",
   "execution_count": 5,
   "metadata": {},
   "outputs": [
    {
     "name": "stdout",
     "output_type": "stream",
     "text": [
      "5 6 52 36 12 10 "
     ]
    }
   ],
   "source": [
    "\n",
    "def splitArr(arr, n, k):\n",
    "\tfor i in range(0, k):\n",
    "\t\tx = arr[0]\n",
    "\t\tfor j in range(0, n-1):\n",
    "\t\t\tarr[j] = arr[j + 1]\n",
    "\t\t\n",
    "\t\tarr[n-1] = x\n",
    "\t\t\n",
    "\n",
    "\n",
    "arr = [12, 10, 5, 6, 52, 36]\n",
    "n = len(arr)\n",
    "position = 2\n",
    "\n",
    "splitArr(arr, n, position)\n",
    "\n",
    "for i in range(0, n):\n",
    "\tprint(arr[i], end = ' ')\n",
    "\n",
    "\n"
   ]
  },
  {
   "cell_type": "markdown",
   "metadata": {},
   "source": [
    "**5. Write a Python Program to check if given array is Monotonic?**"
   ]
  },
  {
   "cell_type": "code",
   "execution_count": 6,
   "metadata": {},
   "outputs": [
    {
     "name": "stdout",
     "output_type": "stream",
     "text": [
      "True\n"
     ]
    }
   ],
   "source": [
    "\n",
    "def isMonotonic(A):\n",
    "\n",
    "\treturn (all(A[i] <= A[i + 1] for i in range(len(A) - 1)) or\n",
    "\t\t\tall(A[i] >= A[i + 1] for i in range(len(A) - 1)))\n",
    "\n",
    "\n",
    "A = [6, 5, 4, 4]\n",
    "\n",
    "\n",
    "print(isMonotonic(A))\n",
    "\n"
   ]
  },
  {
   "cell_type": "code",
   "execution_count": null,
   "metadata": {},
   "outputs": [],
   "source": []
  }
 ],
 "metadata": {
  "interpreter": {
   "hash": "f3c2381cea026b8472c54dbb5201eda4e4bb013f207b090cf19b2f1699c1901b"
  },
  "kernelspec": {
   "display_name": "Python 3.7.11 ('CNN_Basics')",
   "language": "python",
   "name": "python3"
  },
  "language_info": {
   "codemirror_mode": {
    "name": "ipython",
    "version": 3
   },
   "file_extension": ".py",
   "mimetype": "text/x-python",
   "name": "python",
   "nbconvert_exporter": "python",
   "pygments_lexer": "ipython3",
   "version": "3.7.11"
  },
  "orig_nbformat": 4
 },
 "nbformat": 4,
 "nbformat_minor": 2
}
