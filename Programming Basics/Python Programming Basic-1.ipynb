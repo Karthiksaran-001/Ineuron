{
 "cells": [
  {
   "cell_type": "markdown",
   "metadata": {},
   "source": [
    "# Python Programming Basics -1"
   ]
  },
  {
   "cell_type": "markdown",
   "metadata": {},
   "source": [
    "## 1. Write a Python program to print &quot;Hello Python&quot;?"
   ]
  },
  {
   "cell_type": "code",
   "execution_count": 1,
   "metadata": {},
   "outputs": [
    {
     "name": "stdout",
     "output_type": "stream",
     "text": [
      "Hello Python\n"
     ]
    }
   ],
   "source": [
    "print(\"Hello Python\")"
   ]
  },
  {
   "cell_type": "markdown",
   "metadata": {},
   "source": [
    "## 2.Write a Python program to do arithmetical operations addition and division.?"
   ]
  },
  {
   "cell_type": "code",
   "execution_count": 5,
   "metadata": {},
   "outputs": [
    {
     "name": "stdout",
     "output_type": "stream",
     "text": [
      "The addition of 10 , 5 is = 15\n",
      "The Division of 10 , 5 is = 2\n"
     ]
    }
   ],
   "source": [
    "num1=10\n",
    "num2=5\n",
    "add=num1+num2\n",
    "div=num1//num2\n",
    "print(f\"The addition of {num1} , {num2} is = {add}\")\n",
    "print(f\"The Division of {num1} , {num2} is = {div}\")"
   ]
  },
  {
   "cell_type": "markdown",
   "metadata": {},
   "source": [
    "## 3. Write a Python program to find the area of a triangle?\n",
    "Ans:-\n",
    "- Formula of area of Triangle :- 1/2(base X height)"
   ]
  },
  {
   "cell_type": "code",
   "execution_count": 4,
   "metadata": {},
   "outputs": [
    {
     "name": "stdout",
     "output_type": "stream",
     "text": [
      "Enter Your Base  : 20\n",
      "Enter Your Height : 40\n",
      "The area of triangle is :  400.0\n"
     ]
    }
   ],
   "source": [
    "base=float(input(\"Enter Your Base  : \"))\n",
    "height=float(input(\"Enter Your Height : \"))\n",
    "area_triangle=(base*height)/2\n",
    "print(\"The area of triangle is : \",area_triangle)"
   ]
  },
  {
   "cell_type": "markdown",
   "metadata": {},
   "source": [
    "## 4. Write a Python program to swap two variables?"
   ]
  },
  {
   "cell_type": "code",
   "execution_count": 6,
   "metadata": {
    "scrolled": true
   },
   "outputs": [
    {
     "name": "stdout",
     "output_type": "stream",
     "text": [
      "The value of x before swap  10\n",
      "The Value of y before swap  20\n",
      "---------------------------------------------------------------------------\n",
      "The value of x after swap  20\n",
      "The Value of y after swap  10\n"
     ]
    }
   ],
   "source": [
    "x,y=10,20\n",
    "print(\"The value of x before swap \",x)\n",
    "print(\"The Value of y before swap \",y)\n",
    "print(\"-\"*75)\n",
    "temp=x\n",
    "x=y\n",
    "y=temp\n",
    "print(\"The value of x after swap \",x)\n",
    "print(\"The Value of y after swap \",y)"
   ]
  },
  {
   "cell_type": "code",
   "execution_count": 7,
   "metadata": {},
   "outputs": [
    {
     "name": "stdout",
     "output_type": "stream",
     "text": [
      "The value of x before swap  10\n",
      "The Value of y before swap  20\n",
      "---------------------------------------------------------------------------\n",
      "The value of x after swap  20\n",
      "The Value of y after swap  10\n"
     ]
    }
   ],
   "source": [
    "x,y=10,20\n",
    "print(\"The value of x before swap \",x)\n",
    "print(\"The Value of y before swap \",y)\n",
    "print(\"-\"*75)\n",
    "x,y=y,x\n",
    "print(\"The value of x after swap \",x)\n",
    "print(\"The Value of y after swap \",y)"
   ]
  },
  {
   "cell_type": "markdown",
   "metadata": {},
   "source": [
    "## 5. Write a Python program to generate a random number?\n",
    "Ans:-\n",
    "- in Python random is package to create a random number"
   ]
  },
  {
   "cell_type": "code",
   "execution_count": 10,
   "metadata": {},
   "outputs": [
    {
     "name": "stdout",
     "output_type": "stream",
     "text": [
      "7\n"
     ]
    }
   ],
   "source": [
    "import random\n",
    "\n",
    "print(random.randint(0,9))"
   ]
  }
 ],
 "metadata": {
  "kernelspec": {
   "display_name": "Python 3",
   "language": "python",
   "name": "python3"
  },
  "language_info": {
   "codemirror_mode": {
    "name": "ipython",
    "version": 3
   },
   "file_extension": ".py",
   "mimetype": "text/x-python",
   "name": "python",
   "nbconvert_exporter": "python",
   "pygments_lexer": "ipython3",
   "version": "3.7.6"
  }
 },
 "nbformat": 4,
 "nbformat_minor": 4
}
